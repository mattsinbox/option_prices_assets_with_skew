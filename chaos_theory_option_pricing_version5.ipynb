{
 "cells": [
  {
   "cell_type": "code",
   "execution_count": 1,
   "metadata": {},
   "outputs": [],
   "source": [
    "#import libraries \n",
    "import pandas as pd\n",
    "import numpy as np\n"
   ]
  },
  {
   "cell_type": "code",
   "execution_count": 2,
   "metadata": {},
   "outputs": [],
   "source": [
    "import matplotlib.mlab as mlab\n",
    "import matplotlib.pyplot as plt\n",
    "\n",
    "# Pretty display for notebooks\n",
    "%matplotlib inline\n",
    "\n",
    "import seaborn as sns"
   ]
  },
  {
   "cell_type": "code",
   "execution_count": 3,
   "metadata": {},
   "outputs": [],
   "source": [
    "pd.options.display.max_columns = None"
   ]
  },
  {
   "cell_type": "code",
   "execution_count": 4,
   "metadata": {},
   "outputs": [],
   "source": [
    "#function to read and format csv file \n",
    "#input: file\n",
    "#output: df without NaNs, proper format\n",
    "\n",
    "def read_format(file):\n",
    "    df = pd.read_csv(file, header=0, parse_dates=True)\n",
    "    df = df.drop(df.tail(2).index)\n",
    "    #df['Open Interest'].fillna(method='ffill', inplace=True)\n",
    "    \n",
    "    \n",
    "    return df"
   ]
  },
  {
   "cell_type": "code",
   "execution_count": 5,
   "metadata": {},
   "outputs": [],
   "source": [
    "# set files to a variable\n",
    "file_one = r\"C:\\Users\\Matt\\Desktop\\data\\subject_data.csv\""
   ]
  },
  {
   "cell_type": "code",
   "execution_count": 6,
   "metadata": {},
   "outputs": [],
   "source": [
    "# read in and clean csv files to a data frame \n",
    "tables = read_format(file_one)"
   ]
  },
  {
   "cell_type": "code",
   "execution_count": 7,
   "metadata": {},
   "outputs": [
    {
     "data": {
      "text/plain": [
       "814"
      ]
     },
     "execution_count": 7,
     "metadata": {},
     "output_type": "execute_result"
    }
   ],
   "source": [
    "len(tables)"
   ]
  },
  {
   "cell_type": "markdown",
   "metadata": {},
   "source": [
    "# Set Variables"
   ]
  },
  {
   "cell_type": "code",
   "execution_count": 15,
   "metadata": {},
   "outputs": [],
   "source": [
    "#set variables\n",
    "num_days_to_sample = 180\n",
    "current_price = 9620\n",
    "strike  = 11000\n",
    "days_to_expiration = 8"
   ]
  },
  {
   "cell_type": "code",
   "execution_count": 16,
   "metadata": {},
   "outputs": [],
   "source": [
    "days_to_train = num_days_to_sample"
   ]
  },
  {
   "cell_type": "code",
   "execution_count": 17,
   "metadata": {},
   "outputs": [],
   "source": [
    "new_df = tables.iloc[-days_to_train:].copy()"
   ]
  },
  {
   "cell_type": "code",
   "execution_count": 18,
   "metadata": {},
   "outputs": [
    {
     "data": {
      "text/html": [
       "<div>\n",
       "<style scoped>\n",
       "    .dataframe tbody tr th:only-of-type {\n",
       "        vertical-align: middle;\n",
       "    }\n",
       "\n",
       "    .dataframe tbody tr th {\n",
       "        vertical-align: top;\n",
       "    }\n",
       "\n",
       "    .dataframe thead th {\n",
       "        text-align: right;\n",
       "    }\n",
       "</style>\n",
       "<table border=\"1\" class=\"dataframe\">\n",
       "  <thead>\n",
       "    <tr style=\"text-align: right;\">\n",
       "      <th></th>\n",
       "      <th>Date Time</th>\n",
       "      <th>Symbol</th>\n",
       "      <th>Open</th>\n",
       "      <th>High</th>\n",
       "      <th>Low</th>\n",
       "      <th>Close</th>\n",
       "      <th>Change</th>\n",
       "      <th>Volume</th>\n",
       "    </tr>\n",
       "  </thead>\n",
       "  <tbody>\n",
       "    <tr>\n",
       "      <th>634</th>\n",
       "      <td>6/7/2019</td>\n",
       "      <td>^BTCUSD</td>\n",
       "      <td>7689.53</td>\n",
       "      <td>8127.03</td>\n",
       "      <td>7686.19</td>\n",
       "      <td>7890.29</td>\n",
       "      <td>200.76</td>\n",
       "      <td>47523</td>\n",
       "    </tr>\n",
       "    <tr>\n",
       "      <th>635</th>\n",
       "      <td>6/10/2019</td>\n",
       "      <td>^BTCUSD</td>\n",
       "      <td>7890.29</td>\n",
       "      <td>8069.31</td>\n",
       "      <td>7517.72</td>\n",
       "      <td>7939.20</td>\n",
       "      <td>48.91</td>\n",
       "      <td>41052</td>\n",
       "    </tr>\n",
       "    <tr>\n",
       "      <th>636</th>\n",
       "      <td>6/11/2019</td>\n",
       "      <td>^BTCUSD</td>\n",
       "      <td>7944.09</td>\n",
       "      <td>8051.73</td>\n",
       "      <td>7723.72</td>\n",
       "      <td>7924.73</td>\n",
       "      <td>-14.47</td>\n",
       "      <td>31510</td>\n",
       "    </tr>\n",
       "    <tr>\n",
       "      <th>637</th>\n",
       "      <td>6/12/2019</td>\n",
       "      <td>^BTCUSD</td>\n",
       "      <td>7927.28</td>\n",
       "      <td>8241.24</td>\n",
       "      <td>7825.80</td>\n",
       "      <td>8112.40</td>\n",
       "      <td>187.67</td>\n",
       "      <td>61938</td>\n",
       "    </tr>\n",
       "    <tr>\n",
       "      <th>638</th>\n",
       "      <td>6/13/2019</td>\n",
       "      <td>^BTCUSD</td>\n",
       "      <td>8116.80</td>\n",
       "      <td>8291.55</td>\n",
       "      <td>8057.80</td>\n",
       "      <td>8260.56</td>\n",
       "      <td>148.16</td>\n",
       "      <td>31919</td>\n",
       "    </tr>\n",
       "  </tbody>\n",
       "</table>\n",
       "</div>"
      ],
      "text/plain": [
       "     Date Time   Symbol     Open     High      Low    Close  Change  Volume\n",
       "634   6/7/2019  ^BTCUSD  7689.53  8127.03  7686.19  7890.29  200.76   47523\n",
       "635  6/10/2019  ^BTCUSD  7890.29  8069.31  7517.72  7939.20   48.91   41052\n",
       "636  6/11/2019  ^BTCUSD  7944.09  8051.73  7723.72  7924.73  -14.47   31510\n",
       "637  6/12/2019  ^BTCUSD  7927.28  8241.24  7825.80  8112.40  187.67   61938\n",
       "638  6/13/2019  ^BTCUSD  8116.80  8291.55  8057.80  8260.56  148.16   31919"
      ]
     },
     "execution_count": 18,
     "metadata": {},
     "output_type": "execute_result"
    }
   ],
   "source": [
    "new_df.head()"
   ]
  },
  {
   "cell_type": "markdown",
   "metadata": {},
   "source": [
    "# Option Pricing Function "
   ]
  },
  {
   "cell_type": "code",
   "execution_count": 19,
   "metadata": {},
   "outputs": [],
   "source": [
    "'''\n",
    "    Objective:  sample a dataframe for the historical volatility, find the mean over the iterations and probability \n",
    "                that vol is greater than a certain vol over that period.  \n",
    "    INPUT:\n",
    "    dataframe: the dataframe to sample from\n",
    "    iterations: how many iterations\n",
    "    range_btw_dates: range of dates to sample in consecutive order\n",
    "    \n",
    "    straddle_to_compare: straddle to calculate what percentage of the iterations were greater \n",
    "    lost_threshold: straddle of stop loss to calculate what percentage of the iterations were greater, \n",
    "    the downside stop loss percentage\n",
    "    profit_objective: straddle of objective profit to calculate what percentage of the iterations were greater, \n",
    "    the upside, profit taking\n",
    "    \n",
    "    OUTPUT:\n",
    "    Return the list of sample means, print a variety of statistics around the sample means.  \n",
    "'''\n",
    "\n",
    "def option_calc_group_days(df, iterations, range_btw_dates, starting_price, \n",
    "                           strike_price, prob_up_move, replace = True):\n",
    "    x = 0\n",
    "    the_payout = []\n",
    "    #max index number, since we are evaluating between dates, those dates cant exceed the size of dataframe \n",
    "    max_index = len(df) - range_btw_dates\n",
    "    while x < iterations:\n",
    "        #sample a row\n",
    "        the_sample = df.sample()\n",
    "        #grab the index number\n",
    "        the_sample_index = df.index.get_loc(the_sample.iloc[0].name)\n",
    "        \n",
    "        #ensure the_start_index does not run off the table\n",
    "        if the_sample_index < range_btw_dates:\n",
    "            the_start_index = np.abs(the_sample_index - range_btw_dates)\n",
    "        else:\n",
    "            the_start_index = the_sample_index - range_btw_dates\n",
    "            \n",
    "            \n",
    "        #create the range distance between start of index and btwn_the_dates  \n",
    "        plus_the_index = the_start_index + range_btw_dates\n",
    "        \n",
    "        the_new_df = df[the_start_index:plus_the_index]\n",
    "        start_price = the_new_df.head(1)['Close'].iloc[0]\n",
    "        end_price = the_new_df.tail(1)['Close'].iloc[0]\n",
    "        \n",
    "        #selet if market is going up or down\n",
    "        nums = np.random.choice([0, 1], size=1, p=[1-prob_up_move, prob_up_move])\n",
    "        if nums[0] == 1:\n",
    "            the_move = (((np.abs(start_price - end_price)) / start_price) + 1) * starting_price\n",
    "        else: \n",
    "            the_move = 0\n",
    "        \n",
    "        is_it_in_the_money = the_move - strike_price\n",
    "        \n",
    "        if is_it_in_the_money > 0:\n",
    "            payout = the_move - strike_price\n",
    "        else:\n",
    "            payout = 0\n",
    "        \n",
    "            \n",
    "        \n",
    "        \n",
    "        the_payout.append(payout)\n",
    "    \n",
    "        x = x + 1 \n",
    "    mean = np.mean(the_payout)\n",
    "    median = np.median(the_payout)\n",
    "    smallest_value = np.min(the_payout)\n",
    "    great_value = np.max(the_payout)\n",
    "    \n",
    "    \n",
    "    \n",
    "    print(mean)\n",
    "    print (median)\n",
    "    print(smallest_value)\n",
    "    print(great_value)\n",
    "    \n",
    "    \n"
   ]
  },
  {
   "cell_type": "code",
   "execution_count": 20,
   "metadata": {},
   "outputs": [
    {
     "data": {
      "text/plain": [
       "180"
      ]
     },
     "execution_count": 20,
     "metadata": {},
     "output_type": "execute_result"
    }
   ],
   "source": [
    "len(new_df)"
   ]
  },
  {
   "cell_type": "code",
   "execution_count": 21,
   "metadata": {},
   "outputs": [
    {
     "data": {
      "text/html": [
       "<div>\n",
       "<style scoped>\n",
       "    .dataframe tbody tr th:only-of-type {\n",
       "        vertical-align: middle;\n",
       "    }\n",
       "\n",
       "    .dataframe tbody tr th {\n",
       "        vertical-align: top;\n",
       "    }\n",
       "\n",
       "    .dataframe thead th {\n",
       "        text-align: right;\n",
       "    }\n",
       "</style>\n",
       "<table border=\"1\" class=\"dataframe\">\n",
       "  <thead>\n",
       "    <tr style=\"text-align: right;\">\n",
       "      <th></th>\n",
       "      <th>Date Time</th>\n",
       "      <th>Symbol</th>\n",
       "      <th>Open</th>\n",
       "      <th>High</th>\n",
       "      <th>Low</th>\n",
       "      <th>Close</th>\n",
       "      <th>Change</th>\n",
       "      <th>Volume</th>\n",
       "    </tr>\n",
       "  </thead>\n",
       "  <tbody>\n",
       "    <tr>\n",
       "      <th>634</th>\n",
       "      <td>6/7/2019</td>\n",
       "      <td>^BTCUSD</td>\n",
       "      <td>7689.53</td>\n",
       "      <td>8127.03</td>\n",
       "      <td>7686.19</td>\n",
       "      <td>7890.29</td>\n",
       "      <td>200.76</td>\n",
       "      <td>47523</td>\n",
       "    </tr>\n",
       "    <tr>\n",
       "      <th>635</th>\n",
       "      <td>6/10/2019</td>\n",
       "      <td>^BTCUSD</td>\n",
       "      <td>7890.29</td>\n",
       "      <td>8069.31</td>\n",
       "      <td>7517.72</td>\n",
       "      <td>7939.20</td>\n",
       "      <td>48.91</td>\n",
       "      <td>41052</td>\n",
       "    </tr>\n",
       "    <tr>\n",
       "      <th>636</th>\n",
       "      <td>6/11/2019</td>\n",
       "      <td>^BTCUSD</td>\n",
       "      <td>7944.09</td>\n",
       "      <td>8051.73</td>\n",
       "      <td>7723.72</td>\n",
       "      <td>7924.73</td>\n",
       "      <td>-14.47</td>\n",
       "      <td>31510</td>\n",
       "    </tr>\n",
       "    <tr>\n",
       "      <th>637</th>\n",
       "      <td>6/12/2019</td>\n",
       "      <td>^BTCUSD</td>\n",
       "      <td>7927.28</td>\n",
       "      <td>8241.24</td>\n",
       "      <td>7825.80</td>\n",
       "      <td>8112.40</td>\n",
       "      <td>187.67</td>\n",
       "      <td>61938</td>\n",
       "    </tr>\n",
       "    <tr>\n",
       "      <th>638</th>\n",
       "      <td>6/13/2019</td>\n",
       "      <td>^BTCUSD</td>\n",
       "      <td>8116.80</td>\n",
       "      <td>8291.55</td>\n",
       "      <td>8057.80</td>\n",
       "      <td>8260.56</td>\n",
       "      <td>148.16</td>\n",
       "      <td>31919</td>\n",
       "    </tr>\n",
       "  </tbody>\n",
       "</table>\n",
       "</div>"
      ],
      "text/plain": [
       "     Date Time   Symbol     Open     High      Low    Close  Change  Volume\n",
       "634   6/7/2019  ^BTCUSD  7689.53  8127.03  7686.19  7890.29  200.76   47523\n",
       "635  6/10/2019  ^BTCUSD  7890.29  8069.31  7517.72  7939.20   48.91   41052\n",
       "636  6/11/2019  ^BTCUSD  7944.09  8051.73  7723.72  7924.73  -14.47   31510\n",
       "637  6/12/2019  ^BTCUSD  7927.28  8241.24  7825.80  8112.40  187.67   61938\n",
       "638  6/13/2019  ^BTCUSD  8116.80  8291.55  8057.80  8260.56  148.16   31919"
      ]
     },
     "execution_count": 21,
     "metadata": {},
     "output_type": "execute_result"
    }
   ],
   "source": [
    "new_df.head()"
   ]
  },
  {
   "cell_type": "code",
   "execution_count": 23,
   "metadata": {},
   "outputs": [
    {
     "name": "stdout",
     "output_type": "stream",
     "text": [
      "79.11088742902498\n",
      "0.0\n",
      "0.0\n",
      "2294.822654221349\n"
     ]
    }
   ],
   "source": [
    "the_list = option_calc_group_days(new_df, 10000, days_to_expiration, current_price, \n",
    "                           strike, .5, replace = True)"
   ]
  },
  {
   "cell_type": "markdown",
   "metadata": {},
   "source": [
    "# Option Pricing Function Seperating Up and Down Volatility Moves"
   ]
  },
  {
   "cell_type": "code",
   "execution_count": 28,
   "metadata": {},
   "outputs": [],
   "source": [
    "'''\n",
    "    Objective:  sample a dataframe for the historical volatility, find the mean over the iterations and probability \n",
    "                that vol is greater than a certain vol over that period.  \n",
    "    INPUT:\n",
    "    dataframe: the dataframe to sample from\n",
    "    iterations: how many iterations\n",
    "    range_btw_dates: range of dates to sample in consecutive order\n",
    "    \n",
    "    straddle_to_compare: straddle to calculate what percentage of the iterations were greater \n",
    "    lost_threshold: straddle of stop loss to calculate what percentage of the iterations were greater, \n",
    "    the downside stop loss percentage\n",
    "    profit_objective: straddle of objective profit to calculate what percentage of the iterations were greater, \n",
    "    the upside, profit taking\n",
    "    \n",
    "    OUTPUT:\n",
    "    Return the list of sample means, print a variety of statistics around the sample means.  \n",
    "'''\n",
    "\n",
    "def option_calc_group_days_updown(df, iterations, range_btw_dates, starting_price, \n",
    "                           strike_price, prob_up_move, replace = True):\n",
    "    x = 0\n",
    "    the_payout_for_up = []\n",
    "    the_payout_for_down = []\n",
    "    #max index number, since we are evaluating between dates, those dates cant exceed the size of dataframe \n",
    "    max_index = len(df) - range_btw_dates\n",
    "    while x < iterations:\n",
    "        #sample a row\n",
    "        the_sample = df.sample()\n",
    "        #grab the index number\n",
    "        the_sample_index = df.index.get_loc(the_sample.iloc[0].name)\n",
    "        \n",
    "        #ensure the_start_index does not run off the table\n",
    "        if the_sample_index < range_btw_dates:\n",
    "            the_start_index = np.abs(the_sample_index - range_btw_dates)\n",
    "        else:\n",
    "            the_start_index = the_sample_index - range_btw_dates\n",
    "            \n",
    "            \n",
    "        #create the range distance between start of index and btwn_the_dates  \n",
    "        plus_the_index = the_start_index + range_btw_dates\n",
    "        \n",
    "        the_new_df = df[the_start_index:plus_the_index]\n",
    "        start_price = the_new_df.head(1)['Close'].iloc[0]\n",
    "        end_price = the_new_df.tail(1)['Close'].iloc[0]\n",
    "        \n",
    "        #selet if market is going up or down\n",
    "        nums = np.random.choice([0, 1], size=1, p=[1-prob_up_move, prob_up_move])\n",
    "        if nums[0] == 1:\n",
    "            the_move = (((np.abs(start_price - end_price)) / start_price) + 1) * starting_price\n",
    "        else: \n",
    "            the_move = 0\n",
    "        \n",
    "        is_it_in_the_money = the_move - strike_price\n",
    "        \n",
    "        if is_it_in_the_money > 0:\n",
    "            payout = the_move - strike_price\n",
    "        else:\n",
    "            payout = 0\n",
    "        was_it_up_or_down_move = end_price - start_price\n",
    "        if was_it_up_or_down_move >= 0:\n",
    "            the_payout_for_up.append(payout)\n",
    "        else:\n",
    "            the_payout_for_down.append(payout)\n",
    "            \n",
    "            \n",
    "        x = x + 1 \n",
    "    mean_up = np.mean(the_payout_for_up)\n",
    "    mean_down = np.mean(the_payout_for_down)\n",
    "    \n",
    "    median_up = np.median(the_payout_for_up)\n",
    "    median_down = np.median(the_payout_for_down)\n",
    "    \n",
    "    least_value_up = np.min(the_payout_for_up)\n",
    "    least_value_down = np.min(the_payout_for_down)\n",
    "    \n",
    "    most_value_up = np.max(the_payout_for_up)\n",
    "    most_value_down = np.max(the_payout_for_down)\n",
    "    \n",
    "    \n",
    "\n",
    "    \n",
    "    print('the mean for up is', mean_up)\n",
    "    print('the mean for down is', mean_down)\n",
    "    \n",
    "    print('the max for up is', most_value_up)\n",
    "    print('the max for down is', most_value_down)\n",
    "    \n",
    "    print('the least for up is', least_value_up)\n",
    "    print('the least for down is', least_value_down)\n",
    "    \n",
    "    print('the median for up is', median_up)\n",
    "    print('the median for down is', median_down)\n",
    "    \n",
    "    \n",
    "    print('the percentage of up moves', len(the_payout_for_up) / iterations)\n",
    "    print('the percentage of down moves', len(the_payout_for_down) / iterations)\n",
    "    \n",
    "\n",
    "    \n"
   ]
  },
  {
   "cell_type": "code",
   "execution_count": 29,
   "metadata": {},
   "outputs": [
    {
     "name": "stdout",
     "output_type": "stream",
     "text": [
      "the mean for up is 129.07868149206345\n",
      "the mean for down is 22.079853210518788\n",
      "the max for up is 2294.822654221349\n",
      "the max for down is 640.9740124151831\n",
      "the least for up is 0.0\n",
      "the least for down is 0.0\n",
      "the median for up is 0.0\n",
      "the median for down is 0.0\n",
      "the percentage of up moves 0.5436\n",
      "the percentage of down moves 0.4564\n"
     ]
    }
   ],
   "source": [
    "option_calc_group_days_updown(new_df, 10000, 8, current_price, \n",
    "                           strike, .5, replace = True)\n",
    "    "
   ]
  },
  {
   "cell_type": "markdown",
   "metadata": {},
   "source": [
    "# Function for Payouts in a List\n",
    "Ability to remove outliers"
   ]
  },
  {
   "cell_type": "code",
   "execution_count": 42,
   "metadata": {},
   "outputs": [],
   "source": [
    "def option_calc_group_list(df, iterations, range_btw_dates, starting_price, \n",
    "                           strike_price, prob_up_move, replace = True):\n",
    "    x = 0\n",
    "    the_payout_for_up = []\n",
    "    the_payout_for_down = []\n",
    "    #max index number, since we are evaluating between dates, those dates cant exceed the size of dataframe \n",
    "    max_index = len(df) - range_btw_dates\n",
    "    while x < iterations:\n",
    "        #sample a row\n",
    "        the_sample = df.sample()\n",
    "        #grab the index number\n",
    "        the_sample_index = df.index.get_loc(the_sample.iloc[0].name)\n",
    "        \n",
    "        #ensure the_start_index does not run off the table\n",
    "        if the_sample_index < range_btw_dates:\n",
    "            the_start_index = np.abs(the_sample_index - range_btw_dates)\n",
    "        else:\n",
    "            the_start_index = the_sample_index - range_btw_dates\n",
    "            \n",
    "            \n",
    "        #create the range distance between start of index and btwn_the_dates  \n",
    "        plus_the_index = the_start_index + range_btw_dates\n",
    "        \n",
    "        the_new_df = df[the_start_index:plus_the_index]\n",
    "        start_price = the_new_df.head(1)['Close'].iloc[0]\n",
    "        end_price = the_new_df.tail(1)['Close'].iloc[0]\n",
    "        \n",
    "        #selet if market is going up or down\n",
    "        nums = np.random.choice([0, 1], size=1, p=[1-prob_up_move, prob_up_move])\n",
    "        if nums[0] == 1:\n",
    "            the_move = (((np.abs(start_price - end_price)) / start_price) + 1) * starting_price\n",
    "        else: \n",
    "            the_move = 0\n",
    "        \n",
    "        is_it_in_the_money = the_move - strike_price\n",
    "        \n",
    "        if is_it_in_the_money > 0:\n",
    "            payout = the_move - strike_price\n",
    "        else:\n",
    "            payout = 0\n",
    "        was_it_up_or_down_move = end_price - start_price\n",
    "        if was_it_up_or_down_move >= 0:\n",
    "            the_payout_for_up.append(payout)\n",
    "        else:\n",
    "            the_payout_for_down.append(payout)\n",
    "            \n",
    "            \n",
    "        x = x + 1 \n",
    "        \n",
    "    return the_payout_for_up\n",
    "    "
   ]
  },
  {
   "cell_type": "code",
   "execution_count": 43,
   "metadata": {},
   "outputs": [],
   "source": [
    "a = option_calc_group_list(new_df, 8500, days_to_expiration, current_price, \n",
    "                           strike, .5, replace = True)\n"
   ]
  },
  {
   "cell_type": "code",
   "execution_count": 44,
   "metadata": {},
   "outputs": [
    {
     "data": {
      "text/plain": [
       "0.5464705882352942"
      ]
     },
     "execution_count": 44,
     "metadata": {},
     "output_type": "execute_result"
    }
   ],
   "source": [
    "len(a) / 8500"
   ]
  },
  {
   "cell_type": "code",
   "execution_count": 45,
   "metadata": {},
   "outputs": [
    {
     "name": "stderr",
     "output_type": "stream",
     "text": [
      "C:\\Users\\Matt\\Anaconda3\\lib\\site-packages\\matplotlib\\axes\\_axes.py:6462: UserWarning: The 'normed' kwarg is deprecated, and has been replaced by the 'density' kwarg.\n",
      "  warnings.warn(\"The 'normed' kwarg is deprecated, and has been \"\n"
     ]
    },
    {
     "data": {
      "image/png": "[encoded data removed]",
      "text/plain": [
       "<Figure size 432x288 with 1 Axes>"
      ]
     },
     "metadata": {},
     "output_type": "display_data"
    }
   ],
   "source": [
    "import matplotlib.pyplot as plt\n",
    "import numpy as np\n",
    "%matplotlib inline\n",
    "x = a\n",
    "plt.hist(x, normed=True, bins=30)\n",
    "plt.ylabel('payout');"
   ]
  },
  {
   "cell_type": "code",
   "execution_count": 40,
   "metadata": {},
   "outputs": [
    {
     "data": {
      "text/plain": [
       "0.0"
      ]
     },
     "execution_count": 40,
     "metadata": {},
     "output_type": "execute_result"
    }
   ],
   "source": [
    "sum(i > 2800 for i in a) / len(a)"
   ]
  },
  {
   "cell_type": "code",
   "execution_count": 20,
   "metadata": {},
   "outputs": [],
   "source": [
    "outliers_removed = []\n",
    "for i in a:\n",
    "    if i < 2800:\n",
    "        outliers_removed.append(i)\n",
    "        "
   ]
  },
  {
   "cell_type": "code",
   "execution_count": 21,
   "metadata": {},
   "outputs": [
    {
     "data": {
      "text/plain": [
       "5411"
      ]
     },
     "execution_count": 21,
     "metadata": {},
     "output_type": "execute_result"
    }
   ],
   "source": [
    "len(outliers_removed)"
   ]
  },
  {
   "cell_type": "code",
   "execution_count": 22,
   "metadata": {},
   "outputs": [
    {
     "data": {
      "text/plain": [
       "276.0822609862268"
      ]
     },
     "execution_count": 22,
     "metadata": {},
     "output_type": "execute_result"
    }
   ],
   "source": [
    "np.mean(outliers_removed)"
   ]
  },
  {
   "cell_type": "code",
   "execution_count": null,
   "metadata": {},
   "outputs": [],
   "source": []
  }
 ],
 "metadata": {
  "kernelspec": {
   "display_name": "Python 3",
   "language": "python",
   "name": "python3"
  },
  "language_info": {
   "codemirror_mode": {
    "name": "ipython",
    "version": 3
   },
   "file_extension": ".py",
   "mimetype": "text/x-python",
   "name": "python",
   "nbconvert_exporter": "python",
   "pygments_lexer": "ipython3",
   "version": "3.6.5"
  }
 },
 "nbformat": 4,
 "nbformat_minor": 2
}
