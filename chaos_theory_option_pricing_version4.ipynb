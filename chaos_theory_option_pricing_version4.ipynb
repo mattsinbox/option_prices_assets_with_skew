{
 "cells": [
  {
   "cell_type": "code",
   "execution_count": 1,
   "metadata": {},
   "outputs": [],
   "source": [
    "#import libraries \n",
    "import pandas as pd\n",
    "import numpy as np\n"
   ]
  },
  {
   "cell_type": "code",
   "execution_count": 2,
   "metadata": {},
   "outputs": [],
   "source": [
    "import matplotlib.mlab as mlab\n",
    "import matplotlib.pyplot as plt\n",
    "\n",
    "# Pretty display for notebooks\n",
    "%matplotlib inline\n",
    "\n",
    "import seaborn as sns"
   ]
  },
  {
   "cell_type": "code",
   "execution_count": 3,
   "metadata": {},
   "outputs": [],
   "source": [
    "pd.options.display.max_columns = None"
   ]
  },
  {
   "cell_type": "code",
   "execution_count": 4,
   "metadata": {},
   "outputs": [],
   "source": [
    "#function to read and format csv file \n",
    "#input: file\n",
    "#output: df without NaNs, proper format\n",
    "\n",
    "def read_format(file):\n",
    "    df = pd.read_csv(file, header=0, parse_dates=True)\n",
    "    df = df.drop(df.tail(2).index)\n",
    "    #df['Open Interest'].fillna(method='ffill', inplace=True)\n",
    "    \n",
    "    \n",
    "    return df"
   ]
  },
  {
   "cell_type": "code",
   "execution_count": 5,
   "metadata": {},
   "outputs": [],
   "source": [
    "# set files to a variable\n",
    "file_one = r\"C:\\Users\\Matt\\Desktop\\data\\subject_data.csv\""
   ]
  },
  {
   "cell_type": "code",
   "execution_count": 6,
   "metadata": {},
   "outputs": [],
   "source": [
    "# read in and clean csv files to a data frame \n",
    "tables = read_format(file_one)"
   ]
  },
  {
   "cell_type": "code",
   "execution_count": 7,
   "metadata": {},
   "outputs": [
    {
     "data": {
      "text/plain": [
       "2040"
      ]
     },
     "execution_count": 7,
     "metadata": {},
     "output_type": "execute_result"
    }
   ],
   "source": [
    "len(tables)"
   ]
  },
  {
   "cell_type": "code",
   "execution_count": 10,
   "metadata": {},
   "outputs": [],
   "source": [
    "days_to_train = 180"
   ]
  },
  {
   "cell_type": "code",
   "execution_count": 11,
   "metadata": {},
   "outputs": [],
   "source": [
    "new_df = tables.iloc[-days_to_train:].copy()"
   ]
  },
  {
   "cell_type": "code",
   "execution_count": 12,
   "metadata": {},
   "outputs": [
    {
     "data": {
      "text/html": [
       "<div>\n",
       "<style scoped>\n",
       "    .dataframe tbody tr th:only-of-type {\n",
       "        vertical-align: middle;\n",
       "    }\n",
       "\n",
       "    .dataframe tbody tr th {\n",
       "        vertical-align: top;\n",
       "    }\n",
       "\n",
       "    .dataframe thead th {\n",
       "        text-align: right;\n",
       "    }\n",
       "</style>\n",
       "<table border=\"1\" class=\"dataframe\">\n",
       "  <thead>\n",
       "    <tr style=\"text-align: right;\">\n",
       "      <th></th>\n",
       "      <th>Date Time</th>\n",
       "      <th>Symbol</th>\n",
       "      <th>Open</th>\n",
       "      <th>High</th>\n",
       "      <th>Low</th>\n",
       "      <th>Close</th>\n",
       "      <th>Change</th>\n",
       "      <th>Volume</th>\n",
       "      <th>Open Interest</th>\n",
       "    </tr>\n",
       "  </thead>\n",
       "  <tbody>\n",
       "    <tr>\n",
       "      <th>1860</th>\n",
       "      <td>5/21/2019</td>\n",
       "      <td>E6M19</td>\n",
       "      <td>1.11920</td>\n",
       "      <td>1.12140</td>\n",
       "      <td>1.11665</td>\n",
       "      <td>1.11830</td>\n",
       "      <td>-0.00105</td>\n",
       "      <td>176104</td>\n",
       "      <td>516122</td>\n",
       "    </tr>\n",
       "    <tr>\n",
       "      <th>1861</th>\n",
       "      <td>5/22/2019</td>\n",
       "      <td>E6M19</td>\n",
       "      <td>1.11855</td>\n",
       "      <td>1.12050</td>\n",
       "      <td>1.11725</td>\n",
       "      <td>1.11840</td>\n",
       "      <td>0.00010</td>\n",
       "      <td>133181</td>\n",
       "      <td>521493</td>\n",
       "    </tr>\n",
       "    <tr>\n",
       "      <th>1862</th>\n",
       "      <td>5/23/2019</td>\n",
       "      <td>E6M19</td>\n",
       "      <td>1.11740</td>\n",
       "      <td>1.12085</td>\n",
       "      <td>1.11265</td>\n",
       "      <td>1.12035</td>\n",
       "      <td>0.00195</td>\n",
       "      <td>257802</td>\n",
       "      <td>541890</td>\n",
       "    </tr>\n",
       "    <tr>\n",
       "      <th>1863</th>\n",
       "      <td>5/24/2019</td>\n",
       "      <td>E6M19</td>\n",
       "      <td>1.12025</td>\n",
       "      <td>1.12330</td>\n",
       "      <td>1.11975</td>\n",
       "      <td>1.12260</td>\n",
       "      <td>0.00225</td>\n",
       "      <td>155682</td>\n",
       "      <td>535859</td>\n",
       "    </tr>\n",
       "    <tr>\n",
       "      <th>1864</th>\n",
       "      <td>5/28/2019</td>\n",
       "      <td>E6M19</td>\n",
       "      <td>1.12280</td>\n",
       "      <td>1.12345</td>\n",
       "      <td>1.11770</td>\n",
       "      <td>1.11835</td>\n",
       "      <td>-0.00425</td>\n",
       "      <td>218424</td>\n",
       "      <td>536798</td>\n",
       "    </tr>\n",
       "  </tbody>\n",
       "</table>\n",
       "</div>"
      ],
      "text/plain": [
       "      Date Time Symbol     Open     High      Low    Close   Change  Volume  \\\n",
       "1860  5/21/2019  E6M19  1.11920  1.12140  1.11665  1.11830 -0.00105  176104   \n",
       "1861  5/22/2019  E6M19  1.11855  1.12050  1.11725  1.11840  0.00010  133181   \n",
       "1862  5/23/2019  E6M19  1.11740  1.12085  1.11265  1.12035  0.00195  257802   \n",
       "1863  5/24/2019  E6M19  1.12025  1.12330  1.11975  1.12260  0.00225  155682   \n",
       "1864  5/28/2019  E6M19  1.12280  1.12345  1.11770  1.11835 -0.00425  218424   \n",
       "\n",
       "      Open Interest  \n",
       "1860         516122  \n",
       "1861         521493  \n",
       "1862         541890  \n",
       "1863         535859  \n",
       "1864         536798  "
      ]
     },
     "execution_count": 12,
     "metadata": {},
     "output_type": "execute_result"
    }
   ],
   "source": [
    "new_df.head()"
   ]
  },
  {
   "cell_type": "code",
   "execution_count": 13,
   "metadata": {},
   "outputs": [],
   "source": [
    "'''\n",
    "    Objective:  sample a dataframe for the historical volatility, find the mean over the iterations and probability \n",
    "                that vol is greater than a certain vol over that period.  \n",
    "    INPUT:\n",
    "    dataframe: the dataframe to sample from\n",
    "    iterations: how many iterations\n",
    "    range_btw_dates: range of dates to sample in consecutive order\n",
    "    \n",
    "    straddle_to_compare: straddle to calculate what percentage of the iterations were greater \n",
    "    lost_threshold: straddle of stop loss to calculate what percentage of the iterations were greater, \n",
    "    the downside stop loss percentage\n",
    "    profit_objective: straddle of objective profit to calculate what percentage of the iterations were greater, \n",
    "    the upside, profit taking\n",
    "    \n",
    "    OUTPUT:\n",
    "    Return the list of sample means, print a variety of statistics around the sample means.  \n",
    "'''\n",
    "\n",
    "def option_calc_group_days(df, iterations, range_btw_dates, starting_price, \n",
    "                           strike_price, prob_up_move, replace = True):\n",
    "    x = 0\n",
    "    the_payout = []\n",
    "    #max index number, since we are evaluating between dates, those dates cant exceed the size of dataframe \n",
    "    max_index = len(df) - range_btw_dates\n",
    "    while x < iterations:\n",
    "        #sample a row\n",
    "        the_sample = df.sample()\n",
    "        #grab the index number\n",
    "        the_sample_index = df.index.get_loc(the_sample.iloc[0].name)\n",
    "        \n",
    "        #ensure the_start_index does not run off the table\n",
    "        if the_sample_index < range_btw_dates:\n",
    "            the_start_index = np.abs(the_sample_index - range_btw_dates)\n",
    "        else:\n",
    "            the_start_index = the_sample_index - range_btw_dates\n",
    "            \n",
    "            \n",
    "        #create the range distance between start of index and btwn_the_dates  \n",
    "        plus_the_index = the_start_index + range_btw_dates\n",
    "        \n",
    "        the_new_df = df[the_start_index:plus_the_index]\n",
    "        start_price = the_new_df.head(1)['Close'].iloc[0]\n",
    "        end_price = the_new_df.tail(1)['Close'].iloc[0]\n",
    "        \n",
    "        #selet if market is going up or down\n",
    "        nums = np.random.choice([0, 1], size=1, p=[1-prob_up_move, prob_up_move])\n",
    "        if nums[0] == 1:\n",
    "            the_move = (((np.abs(start_price - end_price)) / start_price) + 1) * starting_price\n",
    "        else: \n",
    "            the_move = 0\n",
    "        \n",
    "        is_it_in_the_money = the_move - strike_price\n",
    "        \n",
    "        if is_it_in_the_money > 0:\n",
    "            payout = the_move - strike_price\n",
    "        else:\n",
    "            payout = 0\n",
    "        \n",
    "            \n",
    "        \n",
    "        \n",
    "        the_payout.append(payout)\n",
    "    \n",
    "        x = x + 1 \n",
    "    mean = np.mean(the_payout)\n",
    "    median = np.median(the_payout)\n",
    "    smallest_value = np.min(the_payout)\n",
    "    great_value = np.max(the_payout)\n",
    "    \n",
    "    \n",
    "    \n",
    "    print(mean)\n",
    "    print (median)\n",
    "    print(smallest_value)\n",
    "    print(great_value)\n",
    "    \n",
    "    \n"
   ]
  },
  {
   "cell_type": "code",
   "execution_count": 14,
   "metadata": {},
   "outputs": [
    {
     "data": {
      "text/plain": [
       "180"
      ]
     },
     "execution_count": 14,
     "metadata": {},
     "output_type": "execute_result"
    }
   ],
   "source": [
    "len(new_df)"
   ]
  },
  {
   "cell_type": "code",
   "execution_count": 15,
   "metadata": {},
   "outputs": [
    {
     "data": {
      "text/html": [
       "<div>\n",
       "<style scoped>\n",
       "    .dataframe tbody tr th:only-of-type {\n",
       "        vertical-align: middle;\n",
       "    }\n",
       "\n",
       "    .dataframe tbody tr th {\n",
       "        vertical-align: top;\n",
       "    }\n",
       "\n",
       "    .dataframe thead th {\n",
       "        text-align: right;\n",
       "    }\n",
       "</style>\n",
       "<table border=\"1\" class=\"dataframe\">\n",
       "  <thead>\n",
       "    <tr style=\"text-align: right;\">\n",
       "      <th></th>\n",
       "      <th>Date Time</th>\n",
       "      <th>Symbol</th>\n",
       "      <th>Open</th>\n",
       "      <th>High</th>\n",
       "      <th>Low</th>\n",
       "      <th>Close</th>\n",
       "      <th>Change</th>\n",
       "      <th>Volume</th>\n",
       "      <th>Open Interest</th>\n",
       "    </tr>\n",
       "  </thead>\n",
       "  <tbody>\n",
       "    <tr>\n",
       "      <th>1860</th>\n",
       "      <td>5/21/2019</td>\n",
       "      <td>E6M19</td>\n",
       "      <td>1.11920</td>\n",
       "      <td>1.12140</td>\n",
       "      <td>1.11665</td>\n",
       "      <td>1.11830</td>\n",
       "      <td>-0.00105</td>\n",
       "      <td>176104</td>\n",
       "      <td>516122</td>\n",
       "    </tr>\n",
       "    <tr>\n",
       "      <th>1861</th>\n",
       "      <td>5/22/2019</td>\n",
       "      <td>E6M19</td>\n",
       "      <td>1.11855</td>\n",
       "      <td>1.12050</td>\n",
       "      <td>1.11725</td>\n",
       "      <td>1.11840</td>\n",
       "      <td>0.00010</td>\n",
       "      <td>133181</td>\n",
       "      <td>521493</td>\n",
       "    </tr>\n",
       "    <tr>\n",
       "      <th>1862</th>\n",
       "      <td>5/23/2019</td>\n",
       "      <td>E6M19</td>\n",
       "      <td>1.11740</td>\n",
       "      <td>1.12085</td>\n",
       "      <td>1.11265</td>\n",
       "      <td>1.12035</td>\n",
       "      <td>0.00195</td>\n",
       "      <td>257802</td>\n",
       "      <td>541890</td>\n",
       "    </tr>\n",
       "    <tr>\n",
       "      <th>1863</th>\n",
       "      <td>5/24/2019</td>\n",
       "      <td>E6M19</td>\n",
       "      <td>1.12025</td>\n",
       "      <td>1.12330</td>\n",
       "      <td>1.11975</td>\n",
       "      <td>1.12260</td>\n",
       "      <td>0.00225</td>\n",
       "      <td>155682</td>\n",
       "      <td>535859</td>\n",
       "    </tr>\n",
       "    <tr>\n",
       "      <th>1864</th>\n",
       "      <td>5/28/2019</td>\n",
       "      <td>E6M19</td>\n",
       "      <td>1.12280</td>\n",
       "      <td>1.12345</td>\n",
       "      <td>1.11770</td>\n",
       "      <td>1.11835</td>\n",
       "      <td>-0.00425</td>\n",
       "      <td>218424</td>\n",
       "      <td>536798</td>\n",
       "    </tr>\n",
       "  </tbody>\n",
       "</table>\n",
       "</div>"
      ],
      "text/plain": [
       "      Date Time Symbol     Open     High      Low    Close   Change  Volume  \\\n",
       "1860  5/21/2019  E6M19  1.11920  1.12140  1.11665  1.11830 -0.00105  176104   \n",
       "1861  5/22/2019  E6M19  1.11855  1.12050  1.11725  1.11840  0.00010  133181   \n",
       "1862  5/23/2019  E6M19  1.11740  1.12085  1.11265  1.12035  0.00195  257802   \n",
       "1863  5/24/2019  E6M19  1.12025  1.12330  1.11975  1.12260  0.00225  155682   \n",
       "1864  5/28/2019  E6M19  1.12280  1.12345  1.11770  1.11835 -0.00425  218424   \n",
       "\n",
       "      Open Interest  \n",
       "1860         516122  \n",
       "1861         521493  \n",
       "1862         541890  \n",
       "1863         535859  \n",
       "1864         536798  "
      ]
     },
     "execution_count": 15,
     "metadata": {},
     "output_type": "execute_result"
    }
   ],
   "source": [
    "new_df.head()"
   ]
  },
  {
   "cell_type": "code",
   "execution_count": 17,
   "metadata": {},
   "outputs": [
    {
     "name": "stdout",
     "output_type": "stream",
     "text": [
      "0.008199341236369173\n",
      "0.0\n",
      "0.0\n",
      "0.03318568635293073\n"
     ]
    }
   ],
   "source": [
    "the_list = option_calc_group_days(new_df, 10000, 16, 1.09165, \n",
    "                           1.0850, .5, replace = True)"
   ]
  },
  {
   "cell_type": "code",
   "execution_count": 19,
   "metadata": {},
   "outputs": [],
   "source": [
    "'''\n",
    "    Objective:  sample a dataframe for the historical volatility, find the mean over the iterations and probability \n",
    "                that vol is greater than a certain vol over that period.  \n",
    "    INPUT:\n",
    "    dataframe: the dataframe to sample from\n",
    "    iterations: how many iterations\n",
    "    range_btw_dates: range of dates to sample in consecutive order\n",
    "    \n",
    "    straddle_to_compare: straddle to calculate what percentage of the iterations were greater \n",
    "    lost_threshold: straddle of stop loss to calculate what percentage of the iterations were greater, \n",
    "    the downside stop loss percentage\n",
    "    profit_objective: straddle of objective profit to calculate what percentage of the iterations were greater, \n",
    "    the upside, profit taking\n",
    "    \n",
    "    OUTPUT:\n",
    "    Return the list of sample means, print a variety of statistics around the sample means.  \n",
    "'''\n",
    "\n",
    "def option_calc_group_days_updown(df, iterations, range_btw_dates, starting_price, \n",
    "                           strike_price, prob_up_move, replace = True):\n",
    "    x = 0\n",
    "    the_payout_for_up = []\n",
    "    the_payout_for_down = []\n",
    "    #max index number, since we are evaluating between dates, those dates cant exceed the size of dataframe \n",
    "    max_index = len(df) - range_btw_dates\n",
    "    while x < iterations:\n",
    "        #sample a row\n",
    "        the_sample = df.sample()\n",
    "        #grab the index number\n",
    "        the_sample_index = df.index.get_loc(the_sample.iloc[0].name)\n",
    "        \n",
    "        #ensure the_start_index does not run off the table\n",
    "        if the_sample_index < range_btw_dates:\n",
    "            the_start_index = np.abs(the_sample_index - range_btw_dates)\n",
    "        else:\n",
    "            the_start_index = the_sample_index - range_btw_dates\n",
    "            \n",
    "            \n",
    "        #create the range distance between start of index and btwn_the_dates  \n",
    "        plus_the_index = the_start_index + range_btw_dates\n",
    "        \n",
    "        the_new_df = df[the_start_index:plus_the_index]\n",
    "        start_price = the_new_df.head(1)['Close'].iloc[0]\n",
    "        end_price = the_new_df.tail(1)['Close'].iloc[0]\n",
    "        \n",
    "        #selet if market is going up or down\n",
    "        nums = np.random.choice([0, 1], size=1, p=[1-prob_up_move, prob_up_move])\n",
    "        if nums[0] == 1:\n",
    "            the_move = (((np.abs(start_price - end_price)) / start_price) + 1) * starting_price\n",
    "        else: \n",
    "            the_move = 0\n",
    "        \n",
    "        is_it_in_the_money = the_move - strike_price\n",
    "        \n",
    "        if is_it_in_the_money > 0:\n",
    "            payout = the_move - strike_price\n",
    "        else:\n",
    "            payout = 0\n",
    "        was_it_up_or_down_move = end_price - start_price\n",
    "        if was_it_up_or_down_move >= 0:\n",
    "            the_payout_for_up.append(payout)\n",
    "        else:\n",
    "            the_payout_for_down.append(payout)\n",
    "            \n",
    "            \n",
    "        x = x + 1 \n",
    "    mean_up = np.mean(the_payout_for_up)\n",
    "    mean_down = np.mean(the_payout_for_down)\n",
    "    \n",
    "    median_up = np.median(the_payout_for_up)\n",
    "    median_down = np.median(the_payout_for_down)\n",
    "    \n",
    "    least_value_up = np.min(the_payout_for_up)\n",
    "    least_value_down = np.min(the_payout_for_down)\n",
    "    \n",
    "    most_value_up = np.max(the_payout_for_up)\n",
    "    most_value_down = np.max(the_payout_for_down)\n",
    "    \n",
    "    \n",
    "\n",
    "    \n",
    "    print('the mean for up is', mean_up)\n",
    "    print('the mean for down is', mean_down)\n",
    "    \n",
    "    print('the max for up is', most_value_up)\n",
    "    print('the max for down is', most_value_down)\n",
    "    \n",
    "    print('the least for up is', least_value_up)\n",
    "    print('the least for down is', least_value_down)\n",
    "    \n",
    "    print('the median for up is', median_up)\n",
    "    print('the median for down is', median_down)\n",
    "    \n",
    "    \n",
    "    print('the len of up is', len(the_payout_for_up))\n",
    "    print('the len of down is', len(the_payout_for_down))\n",
    "    \n",
    "\n",
    "    \n"
   ]
  },
  {
   "cell_type": "code",
   "execution_count": 14,
   "metadata": {},
   "outputs": [
    {
     "name": "stdout",
     "output_type": "stream",
     "text": [
      "the mean for up is 1067.5248208043463\n",
      "the mean for down is 525.9458711792438\n",
      "the max for up is 5817.949729195325\n",
      "the max for down is 2294.1701809198003\n",
      "the least for up is 0.0\n",
      "the least for down is 0.0\n",
      "the median for up is 0.0\n",
      "the median for down is 0.0\n",
      "the len of up is 5515\n",
      "the len of down is 2985\n"
     ]
    }
   ],
   "source": [
    "option_calc_group_days_updown(new_df, 8500, 27, 8745, \n",
    "                           8800, .5, replace = True)\n",
    "    "
   ]
  },
  {
   "cell_type": "code",
   "execution_count": 15,
   "metadata": {},
   "outputs": [],
   "source": [
    "def option_calc_group_list(df, iterations, range_btw_dates, starting_price, \n",
    "                           strike_price, prob_up_move, replace = True):\n",
    "    x = 0\n",
    "    the_payout_for_up = []\n",
    "    the_payout_for_down = []\n",
    "    #max index number, since we are evaluating between dates, those dates cant exceed the size of dataframe \n",
    "    max_index = len(df) - range_btw_dates\n",
    "    while x < iterations:\n",
    "        #sample a row\n",
    "        the_sample = df.sample()\n",
    "        #grab the index number\n",
    "        the_sample_index = df.index.get_loc(the_sample.iloc[0].name)\n",
    "        \n",
    "        #ensure the_start_index does not run off the table\n",
    "        if the_sample_index < range_btw_dates:\n",
    "            the_start_index = np.abs(the_sample_index - range_btw_dates)\n",
    "        else:\n",
    "            the_start_index = the_sample_index - range_btw_dates\n",
    "            \n",
    "            \n",
    "        #create the range distance between start of index and btwn_the_dates  \n",
    "        plus_the_index = the_start_index + range_btw_dates\n",
    "        \n",
    "        the_new_df = df[the_start_index:plus_the_index]\n",
    "        start_price = the_new_df.head(1)['Close'].iloc[0]\n",
    "        end_price = the_new_df.tail(1)['Close'].iloc[0]\n",
    "        \n",
    "        #selet if market is going up or down\n",
    "        nums = np.random.choice([0, 1], size=1, p=[1-prob_up_move, prob_up_move])\n",
    "        if nums[0] == 1:\n",
    "            the_move = (((np.abs(start_price - end_price)) / start_price) + 1) * starting_price\n",
    "        else: \n",
    "            the_move = 0\n",
    "        \n",
    "        is_it_in_the_money = the_move - strike_price\n",
    "        \n",
    "        if is_it_in_the_money > 0:\n",
    "            payout = the_move - strike_price\n",
    "        else:\n",
    "            payout = 0\n",
    "        was_it_up_or_down_move = end_price - start_price\n",
    "        if was_it_up_or_down_move >= 0:\n",
    "            the_payout_for_up.append(payout)\n",
    "        else:\n",
    "            the_payout_for_down.append(payout)\n",
    "            \n",
    "            \n",
    "        x = x + 1 \n",
    "        \n",
    "    return the_payout_for_up\n",
    "    "
   ]
  },
  {
   "cell_type": "code",
   "execution_count": 16,
   "metadata": {},
   "outputs": [],
   "source": [
    "a = option_calc_group_list(new_df, 8500, 27, 8745, \n",
    "                           8800, .5, replace = True)"
   ]
  },
  {
   "cell_type": "code",
   "execution_count": 17,
   "metadata": {},
   "outputs": [
    {
     "data": {
      "text/plain": [
       "5526"
      ]
     },
     "execution_count": 17,
     "metadata": {},
     "output_type": "execute_result"
    }
   ],
   "source": [
    "len(a)"
   ]
  },
  {
   "cell_type": "code",
   "execution_count": 18,
   "metadata": {},
   "outputs": [
    {
     "name": "stderr",
     "output_type": "stream",
     "text": [
      "C:\\Users\\Matt\\Anaconda3\\lib\\site-packages\\matplotlib\\axes\\_axes.py:6462: UserWarning: The 'normed' kwarg is deprecated, and has been replaced by the 'density' kwarg.\n",
      "  warnings.warn(\"The 'normed' kwarg is deprecated, and has been \"\n"
     ]
    },
    {
     "data": {
      "image/png": "[encoded data removed]",
      "text/plain": [
       "<Figure size 432x288 with 1 Axes>"
      ]
     },
     "metadata": {},
     "output_type": "display_data"
    }
   ],
   "source": [
    "import matplotlib.pyplot as plt\n",
    "import numpy as np\n",
    "%matplotlib inline\n",
    "x = a\n",
    "plt.hist(x, normed=True, bins=30)\n",
    "plt.ylabel('payout');"
   ]
  },
  {
   "cell_type": "code",
   "execution_count": 19,
   "metadata": {},
   "outputs": [
    {
     "data": {
      "text/plain": [
       "0.020810712993123415"
      ]
     },
     "execution_count": 19,
     "metadata": {},
     "output_type": "execute_result"
    }
   ],
   "source": [
    "sum(i > 2800 for i in a) / len(a)"
   ]
  },
  {
   "cell_type": "code",
   "execution_count": 20,
   "metadata": {},
   "outputs": [],
   "source": [
    "outliers_removed = []\n",
    "for i in a:\n",
    "    if i < 2800:\n",
    "        outliers_removed.append(i)\n",
    "        "
   ]
  },
  {
   "cell_type": "code",
   "execution_count": 21,
   "metadata": {},
   "outputs": [
    {
     "data": {
      "text/plain": [
       "5411"
      ]
     },
     "execution_count": 21,
     "metadata": {},
     "output_type": "execute_result"
    }
   ],
   "source": [
    "len(outliers_removed)"
   ]
  },
  {
   "cell_type": "code",
   "execution_count": 22,
   "metadata": {},
   "outputs": [
    {
     "data": {
      "text/plain": [
       "276.0822609862268"
      ]
     },
     "execution_count": 22,
     "metadata": {},
     "output_type": "execute_result"
    }
   ],
   "source": [
    "np.mean(outliers_removed)"
   ]
  },
  {
   "cell_type": "code",
   "execution_count": null,
   "metadata": {},
   "outputs": [],
   "source": []
  }
 ],
 "metadata": {
  "kernelspec": {
   "display_name": "Python 3",
   "language": "python",
   "name": "python3"
  },
  "language_info": {
   "codemirror_mode": {
    "name": "ipython",
    "version": 3
   },
   "file_extension": ".py",
   "mimetype": "text/x-python",
   "name": "python",
   "nbconvert_exporter": "python",
   "pygments_lexer": "ipython3",
   "version": "3.6.5"
  }
 },
 "nbformat": 4,
 "nbformat_minor": 2
}
